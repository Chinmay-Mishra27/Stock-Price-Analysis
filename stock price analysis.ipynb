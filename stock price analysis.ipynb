{
 "cells": [
  {
   "cell_type": "code",
   "execution_count": 1,
   "id": "50ccb850-7761-40f1-a2f1-ba21cb2d2dca",
   "metadata": {},
   "outputs": [],
   "source": [
    "import numpy as np\n",
    "import pandas as pd\n",
    "import matplotlib.pyplot as plt"
   ]
  },
  {
   "cell_type": "code",
   "execution_count": 27,
   "id": "17162c51-535f-45ac-a5b8-fb44e0c01cc6",
   "metadata": {},
   "outputs": [],
   "source": [
    "data = pd.read_csv('stock_prices.csv')"
   ]
  },
  {
   "cell_type": "code",
   "execution_count": 29,
   "id": "cdc5e378-047d-4f67-b92a-be1243f2b949",
   "metadata": {},
   "outputs": [
    {
     "name": "stdout",
     "output_type": "stream",
     "text": [
      "  symbol        date      open      high       low     close    volume\n",
      "0    AAL  2014-01-02   25.0700   25.8200   25.0600   25.3600   8998943\n",
      "1   AAPL  2014-01-02   79.3828   79.5756   78.8601   79.0185  58791957\n",
      "2    AAP  2014-01-02  110.3600  111.8800  109.2900  109.7400    542711\n",
      "3   ABBV  2014-01-02   52.1200   52.3300   51.5200   51.9800   4569061\n",
      "4    ABC  2014-01-02   70.1100   70.2300   69.4800   69.8900   1148391\n"
     ]
    }
   ],
   "source": [
    "print(data.head())"
   ]
  },
  {
   "cell_type": "code",
   "execution_count": 31,
   "id": "9407a326-1b93-4731-b402-b0f19b82f96c",
   "metadata": {},
   "outputs": [
    {
     "name": "stdout",
     "output_type": "stream",
     "text": [
      "<class 'pandas.core.frame.DataFrame'>\n",
      "RangeIndex: 497472 entries, 0 to 497471\n",
      "Data columns (total 7 columns):\n",
      " #   Column  Non-Null Count   Dtype  \n",
      "---  ------  --------------   -----  \n",
      " 0   symbol  497472 non-null  object \n",
      " 1   date    497472 non-null  object \n",
      " 2   open    497461 non-null  float64\n",
      " 3   high    497464 non-null  float64\n",
      " 4   low     497464 non-null  float64\n",
      " 5   close   497472 non-null  float64\n",
      " 6   volume  497472 non-null  int64  \n",
      "dtypes: float64(4), int64(1), object(2)\n",
      "memory usage: 26.6+ MB\n",
      "None\n",
      "                open           high            low          close  \\\n",
      "count  497461.000000  497464.000000  497464.000000  497472.000000   \n",
      "mean       86.352275      87.132562      85.552467      86.369082   \n",
      "std       101.471228     102.312062     100.570957     101.472407   \n",
      "min         1.620000       1.690000       1.500000       1.590000   \n",
      "25%        41.690000      42.090000      41.280000      41.703750   \n",
      "50%        64.970000      65.560000      64.353700      64.980000   \n",
      "75%        98.410000      99.230000      97.580000      98.420000   \n",
      "max      2044.000000    2067.990000    2035.110000    2049.000000   \n",
      "\n",
      "             volume  \n",
      "count  4.974720e+05  \n",
      "mean   4.253611e+06  \n",
      "std    8.232139e+06  \n",
      "min    0.000000e+00  \n",
      "25%    1.080166e+06  \n",
      "50%    2.084896e+06  \n",
      "75%    4.271928e+06  \n",
      "max    6.182376e+08  \n"
     ]
    }
   ],
   "source": [
    "print(data.info())\n",
    "print(data.describe())"
   ]
  },
  {
   "cell_type": "code",
   "execution_count": 35,
   "id": "8fa88374-c2dc-444b-ad21-ffa0a3445b09",
   "metadata": {},
   "outputs": [],
   "source": [
    "data['date']=pd.to_datetime(data['date'])\n",
    "data.set_index('date',inplace=True)"
   ]
  },
  {
   "cell_type": "code",
   "execution_count": 37,
   "id": "d4b4e604-cfa7-4f98-a891-f01935ca5840",
   "metadata": {},
   "outputs": [],
   "source": [
    "data.dropna(inplace=True)"
   ]
  },
  {
   "cell_type": "code",
   "execution_count": 39,
   "id": "b13d7260-47c5-47ee-8a7d-4a54d37c3b02",
   "metadata": {},
   "outputs": [],
   "source": [
    "data['Daily Return']=data['close'].pct_change()# Calcutaing Daily Returns"
   ]
  },
  {
   "cell_type": "code",
   "execution_count": 41,
   "id": "9533c027-d8ca-4929-ac97-63275a7c0612",
   "metadata": {},
   "outputs": [],
   "source": [
    "data['SMA_7']=data['close'].rolling(window=7).mean()  #Calclating moving averages\n",
    "data['SMA_30']=data['close'].rolling(window=30).mean()"
   ]
  },
  {
   "cell_type": "code",
   "execution_count": 43,
   "id": "0ac77008-991c-47c0-ab5b-47d73be9b47f",
   "metadata": {},
   "outputs": [],
   "source": [
    "data['Volatality']=data['Daily Return'].rolling(window=30).std()"
   ]
  },
  {
   "cell_type": "code",
   "execution_count": null,
   "id": "5955de7d-4df9-4b6a-9cde-b09b00a85f1e",
   "metadata": {},
   "outputs": [],
   "source": []
  }
 ],
 "metadata": {
  "kernelspec": {
   "display_name": "Python 3 (ipykernel)",
   "language": "python",
   "name": "python3"
  },
  "language_info": {
   "codemirror_mode": {
    "name": "ipython",
    "version": 3
   },
   "file_extension": ".py",
   "mimetype": "text/x-python",
   "name": "python",
   "nbconvert_exporter": "python",
   "pygments_lexer": "ipython3",
   "version": "3.12.7"
  }
 },
 "nbformat": 4,
 "nbformat_minor": 5
}
